{
 "cells": [
  {
   "cell_type": "markdown",
   "metadata": {},
   "source": [
    "Preparing dataset"
   ]
  },
  {
   "cell_type": "code",
   "execution_count": 19,
   "metadata": {},
   "outputs": [],
   "source": [
    "import os\n",
    "import numpy as np\n",
    "import cv2\n",
    "from sklearn.model_selection import train_test_split\n",
    "\n",
    "pathname = 'Dataset-small/data/WildScenes/WildScenes2d/V-01/'\n",
    "sample_size = 5\n",
    "\n",
    "X_all = []\n",
    "y_all = []\n",
    "\n",
    "def one_hot_encode(masks, num_classes):\n",
    "    masks_encoded = np.zeros((*masks.shape, num_classes), dtype=np.float32)\n",
    "    for i in range(num_classes):\n",
    "        masks_encoded[..., i] = (masks == i).astype(np.float32)\n",
    "    return masks_encoded\n",
    "\n",
    "for img_name in os.listdir(f'{pathname}image')[:sample_size]:\n",
    "    if ':' in img_name:\n",
    "        continue\n",
    "    img = np.asarray(cv2.imread(f'{pathname}/image/{img_name}')) / 255.0\n",
    "    mask = np.asarray(cv2.imread(f'{pathname}/indexLabel/{img_name}'))\n",
    "    mask = mask[:,:,0]\n",
    "    X_all.append(img)\n",
    "    y_all.append(mask)\n",
    "\n",
    "X_all = np.asarray(X_all)\n",
    "y_all = one_hot_encode(np.asarray(y_all), 15)\n",
    "X_train, X_test, y_train, y_test = train_test_split(X_all, y_all, test_size=0.2, random_state=42)\n",
    "X_train, X_val, y_train, y_val = train_test_split(X_train, y_train, test_size=0.2, random_state=42)"
   ]
  },
  {
   "cell_type": "markdown",
   "metadata": {},
   "source": [
    "Creating and compiling the model"
   ]
  },
  {
   "cell_type": "code",
   "execution_count": 31,
   "metadata": {},
   "outputs": [],
   "source": [
    "import tensorflow as tf\n",
    "from tensorflow.keras.layers import Conv2D, MaxPooling2D, Conv2DTranspose, concatenate, Input, Cropping2D, ZeroPadding2D\n",
    "from tensorflow.keras.models import Model\n",
    "\n",
    "def unet_model(input_size=(1512, 2016, 3), num_classes=15):\n",
    "    inputs = Input(input_size)\n",
    "\n",
    "    # Encoding\n",
    "    c1 = Conv2D(64, (3, 3), activation='relu', padding='same')(inputs)\n",
    "    c1 = Conv2D(64, (3, 3), activation='relu', padding='same')(c1)\n",
    "    p1 = MaxPooling2D((2, 2))(c1)\n",
    "\n",
    "    c2 = Conv2D(128, (3, 3), activation='relu', padding='same')(p1)\n",
    "    c2 = Conv2D(128, (3, 3), activation='relu', padding='same')(c2)\n",
    "    p2 = MaxPooling2D((2, 2))(c2)\n",
    "\n",
    "    c3 = Conv2D(256, (3, 3), activation='relu', padding='same')(p2)\n",
    "    c3 = Conv2D(256, (3, 3), activation='relu', padding='same')(c3)\n",
    "    p3 = MaxPooling2D((2, 2))(c3)\n",
    "\n",
    "    c4 = Conv2D(512, (3, 3), activation='relu', padding='same')(p3)\n",
    "    c4 = Conv2D(512, (3, 3), activation='relu', padding='same')(c4)\n",
    "\n",
    "    # Decoding\n",
    "    u5 = Conv2DTranspose(256, (2, 2), strides=(2, 2), padding='same')(c4)\n",
    "    u5 = concatenate([u5, c3])\n",
    "    c5 = Conv2D(256, (3, 3), activation='relu', padding='same')(u5)\n",
    "    c5 = Conv2D(256, (3, 3), activation='relu', padding='same')(c5)\n",
    "\n",
    "    u6 = Conv2DTranspose(128, (2, 2), strides=(2, 2), padding='same')(c5)\n",
    "    u6 = concatenate([u6, c2])\n",
    "    c6 = Conv2D(128, (3, 3), activation='relu', padding='same')(u6)\n",
    "    c6 = Conv2D(128, (3, 3), activation='relu', padding='same')(c6)\n",
    "\n",
    "    u7 = Conv2DTranspose(64, (2, 2), strides=(2, 2), padding='same')(c6)\n",
    "    u7 = concatenate([u7, c1])\n",
    "    c7 = Conv2D(64, (3, 3), activation='relu', padding='same')(u7)\n",
    "    c7 = Conv2D(64, (3, 3), activation='relu', padding='same')(c7)\n",
    "\n",
    "    outputs = Conv2D(num_classes, (1, 1), activation='softmax')(c7)\n",
    "\n",
    "    model = Model(inputs=[inputs], outputs=[outputs])\n",
    "    return model\n",
    "\n",
    "# Create and compile the model\n",
    "model = unet_model(input_size=(1512, 2016, 3), num_classes=15)\n",
    "\n",
    "from tensorflow.keras.metrics import MeanIoU\n",
    "\n",
    "model.compile(optimizer='adam', \n",
    "              loss='categorical_crossentropy', \n",
    "              metrics=[MeanIoU(num_classes=15)])"
   ]
  },
  {
   "cell_type": "markdown",
   "metadata": {},
   "source": [
    "Training the model"
   ]
  },
  {
   "cell_type": "code",
   "execution_count": 33,
   "metadata": {},
   "outputs": [
    {
     "name": "stdout",
     "output_type": "stream",
     "text": [
      "(1, 1512, 2016, 15)\n",
      "Epoch 1/20\n"
     ]
    }
   ],
   "source": [
    "print(y_train.shape)\n",
    "\n",
    "model.fit(X_train, y_train, \n",
    "          validation_data=(X_val, y_val),\n",
    "          batch_size=8, \n",
    "          epochs=20)"
   ]
  }
 ],
 "metadata": {
  "kernelspec": {
   "display_name": "Python 3",
   "language": "python",
   "name": "python3"
  },
  "language_info": {
   "codemirror_mode": {
    "name": "ipython",
    "version": 3
   },
   "file_extension": ".py",
   "mimetype": "text/x-python",
   "name": "python",
   "nbconvert_exporter": "python",
   "pygments_lexer": "ipython3",
   "version": "3.10.12"
  }
 },
 "nbformat": 4,
 "nbformat_minor": 2
}

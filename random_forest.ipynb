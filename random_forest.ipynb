{
 "cells": [
  {
   "cell_type": "markdown",
   "metadata": {},
   "source": [
    "# Feature Represenations"
   ]
  },
  {
   "cell_type": "code",
   "execution_count": 7,
   "metadata": {},
   "outputs": [],
   "source": [
    "import cv2\n",
    "import numpy as np\n",
    "from skimage.feature import hog\n",
    "from skimage.feature import local_binary_pattern\n",
    "\n",
    "def extract_combined_features(image):\n",
    "    # Extract all features\n",
    "    color_features = extract_color_features(image)\n",
    "    lbp_features = extract_lbp_features(image)\n",
    "    hog_features = extract_hog_features(image)\n",
    "    \n",
    "    # Combine all features\n",
    "    combined_features = np.concatenate([color_features, lbp_features, hog_features])\n",
    "    \n",
    "    return combined_features\n",
    "\n",
    "def extract_color_features(img):\n",
    "    # Convert to different color spaces\n",
    "    hsv = cv2.cvtColor(img, cv2.COLOR_RGB2HSV)\n",
    "    lab = cv2.cvtColor(img, cv2.COLOR_RGB2LAB)\n",
    "    \n",
    "    # Compute color histograms\n",
    "    hist_rgb = cv2.calcHist([img], [0, 1, 2], None, [8, 8, 8], [0, 256, 0, 256, 0, 256])\n",
    "    hist_hsv = cv2.calcHist([hsv], [0, 1, 2], None, [8, 8, 8], [0, 180, 0, 256, 0, 256])\n",
    "    hist_lab = cv2.calcHist([lab], [0, 1, 2], None, [8, 8, 8], [0, 256, 0, 256, 0, 256])\n",
    "    \n",
    "    # Flatten and normalize histograms\n",
    "    hist_rgb = hist_rgb.flatten() / hist_rgb.sum()\n",
    "    hist_hsv = hist_hsv.flatten() / hist_hsv.sum()\n",
    "    hist_lab = hist_lab.flatten() / hist_lab.sum()\n",
    "    \n",
    "    # Compute mean and std for each channel\n",
    "    means_rgb = img.mean(axis=(0, 1))\n",
    "    stds_rgb = img.std(axis=(0, 1))\n",
    "    \n",
    "    return np.concatenate([hist_rgb, hist_hsv, hist_lab, means_rgb, stds_rgb])\n",
    "\n",
    "def extract_lbp_features(img):\n",
    "    gray = cv2.cvtColor(img, cv2.COLOR_RGB2GRAY)\n",
    "    \n",
    "    # Set LBP parameters\n",
    "    radius = 3  # Radius of the circle\n",
    "    n_points = 8 * radius  # Number of points to consider in the LBP calculation\n",
    "    \n",
    "    # Compute the LBP representation of the image\n",
    "    lbp = local_binary_pattern(gray, n_points, radius, method='uniform')\n",
    "    \n",
    "    # Compute the histogram of the LBP\n",
    "    hist, _ = np.histogram(lbp.ravel(), bins=np.arange(0, n_points + 3), range=(0, n_points + 2))\n",
    "    \n",
    "    # Normalize the histogram\n",
    "    hist = hist.astype(\"float\")\n",
    "    hist /= (hist.sum() + 1e-7)  # Avoid division by zero\n",
    "    \n",
    "    return hist\n",
    "\n",
    "def extract_hog_features(image, pixels_per_cell=(8, 8), cells_per_block=(2, 2), orientations=9):\n",
    "    gray = cv2.cvtColor(image, cv2.COLOR_BGR2GRAY)\n",
    "    features = hog(gray, orientations=orientations, pixels_per_cell=pixels_per_cell,\n",
    "                   cells_per_block=cells_per_block, block_norm='L2-Hys', feature_vector=True)\n",
    "    return features\n",
    "\n",
    "def extract_sift_features(image, num_features=100):\n",
    "    sift = cv2.SIFT_create(nfeatures=num_features)\n",
    "    keypoints, descriptors = sift.detectAndCompute(image, None)\n",
    "    if descriptors is None:\n",
    "        return np.zeros((num_features, 128))  # SIFT descriptor is 128-dimensional\n",
    "    if descriptors.shape[0] < num_features:\n",
    "        padding = np.zeros((num_features - descriptors.shape[0], 128))\n",
    "        descriptors = np.vstack((descriptors, padding))\n",
    "    return descriptors[:num_features].flatten()\n",
    "\n",
    "def extract_surf_features(image, num_features=100, hessian_threshold=400):\n",
    "    surf = cv2.xfeatures2d.SURF_create(hessianThreshold=hessian_threshold, nOctaves=4, nOctaveLayers=3, extended=False, upright=True)\n",
    "    keypoints, descriptors = surf.detectAndCompute(image, None)\n",
    "    if descriptors is None:\n",
    "        return np.zeros((num_features, 64))  # SURF descriptor is 64-dimensional\n",
    "    if descriptors.shape[0] < num_features:\n",
    "        padding = np.zeros((num_features - descriptors.shape[0], 64))\n",
    "        descriptors = np.vstack((descriptors, padding))\n",
    "    return descriptors[:num_features].flatten()\n",
    "\n",
    "def extract_features(image, method):\n",
    "    # Using the method prescribed in the paper: https://arxiv.org/pdf/1901.07828\n",
    "\n",
    "    # HOG\n",
    "    if method == 'HOG':\n",
    "        return extract_hog_features(image)\n",
    "    \n",
    "    # SIFT\n",
    "    if method == 'SIFT':\n",
    "        return extract_sift_features(image)\n",
    "        \n",
    "    # SURF\n",
    "    if method == 'SURF':\n",
    "        return extract_surf_features(image)\n",
    "    \n",
    "    if method == 'Combined':\n",
    "        return extract_combined_features(image)\n",
    "\n",
    "\n",
    "def create_pixel_features(image, mask, method):\n",
    "    X = extract_features(image, method)\n",
    "    y = np.apply_along_axis(lambda x: x[0], 1, mask.reshape(-1,3))\n",
    "    return X, y"
   ]
  },
  {
   "cell_type": "markdown",
   "metadata": {},
   "source": [
    "Creating our training and testing sets"
   ]
  },
  {
   "cell_type": "code",
   "execution_count": 2,
   "metadata": {},
   "outputs": [],
   "source": [
    "import os\n",
    "import numpy as np\n",
    "import cv2\n",
    "from sklearn.model_selection import train_test_split\n",
    "\n",
    "pathname = 'Dataset-small/data/WildScenes/WildScenes2d/V-01/'\n",
    "sample_size = 50\n",
    "target_size = (256, 256)\n",
    "\n",
    "def resize_image_and_mask(image, mask, target_size):\n",
    "    image_resized = cv2.resize(image, target_size)\n",
    "    mask_resized = cv2.resize(mask, target_size, interpolation=cv2.INTER_NEAREST)\n",
    "    return image_resized, mask_resized\n",
    "\n",
    "X_all = []\n",
    "y_all = []\n",
    "\n",
    "image_filenames = [img_name for img_name in os.listdir(f'{pathname}image') if ':' not in img_name]\n",
    "np.random.shuffle(image_filenames)\n",
    "selected_filenames = image_filenames[:sample_size]\n",
    "\n",
    "for img_name in selected_filenames:\n",
    "    img = np.asarray(cv2.imread(f'{pathname}/image/{img_name}'))\n",
    "    mask = np.asarray(cv2.imread(f'{pathname}/indexLabel/{img_name}'))\n",
    "    img, mask = resize_image_and_mask(img, mask, target_size)\n",
    "    img, mask = create_pixel_features(img, mask, method='Combined')\n",
    "    X_all.append(img)\n",
    "    y_all.append(mask)\n",
    "\n",
    "X = np.array(X_all)\n",
    "y = np.array(y_all)\n",
    "\n",
    "X_train, X_test, y_train, y_test = train_test_split(\n",
    "    X, y, test_size=0.25, random_state=42)"
   ]
  },
  {
   "cell_type": "markdown",
   "metadata": {},
   "source": [
    "Fitting the model"
   ]
  },
  {
   "cell_type": "code",
   "execution_count": 3,
   "metadata": {},
   "outputs": [
    {
     "data": {
      "text/html": [
       "<style>#sk-container-id-1 {color: black;}#sk-container-id-1 pre{padding: 0;}#sk-container-id-1 div.sk-toggleable {background-color: white;}#sk-container-id-1 label.sk-toggleable__label {cursor: pointer;display: block;width: 100%;margin-bottom: 0;padding: 0.3em;box-sizing: border-box;text-align: center;}#sk-container-id-1 label.sk-toggleable__label-arrow:before {content: \"▸\";float: left;margin-right: 0.25em;color: #696969;}#sk-container-id-1 label.sk-toggleable__label-arrow:hover:before {color: black;}#sk-container-id-1 div.sk-estimator:hover label.sk-toggleable__label-arrow:before {color: black;}#sk-container-id-1 div.sk-toggleable__content {max-height: 0;max-width: 0;overflow: hidden;text-align: left;background-color: #f0f8ff;}#sk-container-id-1 div.sk-toggleable__content pre {margin: 0.2em;color: black;border-radius: 0.25em;background-color: #f0f8ff;}#sk-container-id-1 input.sk-toggleable__control:checked~div.sk-toggleable__content {max-height: 200px;max-width: 100%;overflow: auto;}#sk-container-id-1 input.sk-toggleable__control:checked~label.sk-toggleable__label-arrow:before {content: \"▾\";}#sk-container-id-1 div.sk-estimator input.sk-toggleable__control:checked~label.sk-toggleable__label {background-color: #d4ebff;}#sk-container-id-1 div.sk-label input.sk-toggleable__control:checked~label.sk-toggleable__label {background-color: #d4ebff;}#sk-container-id-1 input.sk-hidden--visually {border: 0;clip: rect(1px 1px 1px 1px);clip: rect(1px, 1px, 1px, 1px);height: 1px;margin: -1px;overflow: hidden;padding: 0;position: absolute;width: 1px;}#sk-container-id-1 div.sk-estimator {font-family: monospace;background-color: #f0f8ff;border: 1px dotted black;border-radius: 0.25em;box-sizing: border-box;margin-bottom: 0.5em;}#sk-container-id-1 div.sk-estimator:hover {background-color: #d4ebff;}#sk-container-id-1 div.sk-parallel-item::after {content: \"\";width: 100%;border-bottom: 1px solid gray;flex-grow: 1;}#sk-container-id-1 div.sk-label:hover label.sk-toggleable__label {background-color: #d4ebff;}#sk-container-id-1 div.sk-serial::before {content: \"\";position: absolute;border-left: 1px solid gray;box-sizing: border-box;top: 0;bottom: 0;left: 50%;z-index: 0;}#sk-container-id-1 div.sk-serial {display: flex;flex-direction: column;align-items: center;background-color: white;padding-right: 0.2em;padding-left: 0.2em;position: relative;}#sk-container-id-1 div.sk-item {position: relative;z-index: 1;}#sk-container-id-1 div.sk-parallel {display: flex;align-items: stretch;justify-content: center;background-color: white;position: relative;}#sk-container-id-1 div.sk-item::before, #sk-container-id-1 div.sk-parallel-item::before {content: \"\";position: absolute;border-left: 1px solid gray;box-sizing: border-box;top: 0;bottom: 0;left: 50%;z-index: -1;}#sk-container-id-1 div.sk-parallel-item {display: flex;flex-direction: column;z-index: 1;position: relative;background-color: white;}#sk-container-id-1 div.sk-parallel-item:first-child::after {align-self: flex-end;width: 50%;}#sk-container-id-1 div.sk-parallel-item:last-child::after {align-self: flex-start;width: 50%;}#sk-container-id-1 div.sk-parallel-item:only-child::after {width: 0;}#sk-container-id-1 div.sk-dashed-wrapped {border: 1px dashed gray;margin: 0 0.4em 0.5em 0.4em;box-sizing: border-box;padding-bottom: 0.4em;background-color: white;}#sk-container-id-1 div.sk-label label {font-family: monospace;font-weight: bold;display: inline-block;line-height: 1.2em;}#sk-container-id-1 div.sk-label-container {text-align: center;}#sk-container-id-1 div.sk-container {/* jupyter's `normalize.less` sets `[hidden] { display: none; }` but bootstrap.min.css set `[hidden] { display: none !important; }` so we also need the `!important` here to be able to override the default hidden behavior on the sphinx rendered scikit-learn.org. See: https://github.com/scikit-learn/scikit-learn/issues/21755 */display: inline-block !important;position: relative;}#sk-container-id-1 div.sk-text-repr-fallback {display: none;}</style><div id=\"sk-container-id-1\" class=\"sk-top-container\"><div class=\"sk-text-repr-fallback\"><pre>RandomForestClassifier(n_estimators=3, random_state=42)</pre><b>In a Jupyter environment, please rerun this cell to show the HTML representation or trust the notebook. <br />On GitHub, the HTML representation is unable to render, please try loading this page with nbviewer.org.</b></div><div class=\"sk-container\" hidden><div class=\"sk-item\"><div class=\"sk-estimator sk-toggleable\"><input class=\"sk-toggleable__control sk-hidden--visually\" id=\"sk-estimator-id-1\" type=\"checkbox\" checked><label for=\"sk-estimator-id-1\" class=\"sk-toggleable__label sk-toggleable__label-arrow\">RandomForestClassifier</label><div class=\"sk-toggleable__content\"><pre>RandomForestClassifier(n_estimators=3, random_state=42)</pre></div></div></div></div></div>"
      ],
      "text/plain": [
       "RandomForestClassifier(n_estimators=3, random_state=42)"
      ]
     },
     "execution_count": 3,
     "metadata": {},
     "output_type": "execute_result"
    }
   ],
   "source": [
    "from sklearn.ensemble import RandomForestClassifier\n",
    "\n",
    "rf = RandomForestClassifier(n_estimators=10, random_state=42)\n",
    "rf.fit(X_train, y_train)"
   ]
  },
  {
   "cell_type": "markdown",
   "metadata": {},
   "source": [
    "Gathering model predictions"
   ]
  },
  {
   "cell_type": "code",
   "execution_count": 11,
   "metadata": {},
   "outputs": [],
   "source": [
    "y_pred = rf.predict(X_test)"
   ]
  },
  {
   "cell_type": "markdown",
   "metadata": {},
   "source": [
    "Model evaluation using IOU"
   ]
  },
  {
   "cell_type": "code",
   "execution_count": 13,
   "metadata": {},
   "outputs": [
    {
     "name": "stdout",
     "output_type": "stream",
     "text": [
      "[ 8 17 17 ... 18 18 18]\n"
     ]
    },
    {
     "ename": "ValueError",
     "evalue": "zero-dimensional arrays cannot be concatenated",
     "output_type": "error",
     "traceback": [
      "\u001b[0;31m---------------------------------------------------------------------------\u001b[0m",
      "\u001b[0;31mValueError\u001b[0m                                Traceback (most recent call last)",
      "Cell \u001b[0;32mIn[13], line 54\u001b[0m\n\u001b[1;32m     51\u001b[0m \u001b[38;5;28mprint\u001b[39m(y_test)\n\u001b[1;32m     53\u001b[0m \u001b[38;5;28;01mfrom\u001b[39;00m \u001b[38;5;21;01msklearn\u001b[39;00m\u001b[38;5;21;01m.\u001b[39;00m\u001b[38;5;21;01mmetrics\u001b[39;00m \u001b[38;5;28;01mimport\u001b[39;00m jaccard_score, accuracy_score\n\u001b[0;32m---> 54\u001b[0m y_pred \u001b[38;5;241m=\u001b[39m \u001b[43mnp\u001b[49m\u001b[38;5;241;43m.\u001b[39;49m\u001b[43mconcatenate\u001b[49m\u001b[43m(\u001b[49m\u001b[43my_pred\u001b[49m\u001b[43m)\u001b[49m\n\u001b[1;32m     55\u001b[0m y_test \u001b[38;5;241m=\u001b[39m np\u001b[38;5;241m.\u001b[39mconcatenate(y_test)\n\u001b[1;32m     56\u001b[0m iou \u001b[38;5;241m=\u001b[39m jaccard_score(y_pred, y_test, average\u001b[38;5;241m=\u001b[39m\u001b[38;5;28;01mNone\u001b[39;00m)\n",
      "\u001b[0;31mValueError\u001b[0m: zero-dimensional arrays cannot be concatenated"
     ]
    }
   ],
   "source": [
    "import numpy as np\n",
    "\n",
    "def calculate_iou(pred_mask, true_mask, num_classes):\n",
    "    \"\"\"\n",
    "    Calculate IoU for each class and mean IoU using vectorized operations.\n",
    "    \n",
    "    :param pred_mask: Predicted segmentation mask\n",
    "    :param true_mask: Ground truth segmentation mask\n",
    "    :param num_classes: Number of classes in the segmentation task\n",
    "    :return: IoU for each class and mean IoU\n",
    "    \"\"\"\n",
    "    pred_mask = pred_mask.flatten()\n",
    "    true_mask = true_mask.flatten()\n",
    "    \n",
    "    # Create one-hot encoded masks\n",
    "    pred_one_hot = (np.arange(num_classes) == pred_mask[:, None]).astype(int)\n",
    "    true_one_hot = (np.arange(num_classes) == true_mask[:, None]).astype(int)\n",
    "    \n",
    "    # Calculate intersection and union\n",
    "    intersection = np.logical_and(pred_one_hot, true_one_hot).sum(axis=0)\n",
    "    union = np.logical_or(pred_one_hot, true_one_hot).sum(axis=0)\n",
    "    \n",
    "    # Calculate IoU for each class\n",
    "    iou = np.divide(intersection, union, out=np.zeros_like(intersection, dtype=float), where=union != 0)\n",
    "    \n",
    "    mean_iou = np.mean(iou)\n",
    "    return iou, mean_iou\n",
    "\n",
    "def evaluate_segmentation(pred_masks, true_masks, num_classes):\n",
    "    \"\"\"\n",
    "    Evaluate segmentation performance over a set of images using vectorized operations.\n",
    "    \n",
    "    :param pred_masks: List of predicted segmentation masks\n",
    "    :param true_masks: List of ground truth segmentation masks\n",
    "    :param num_classes: Number of classes in the segmentation task\n",
    "    :return: Mean IoU for each class and overall mean IoU\n",
    "    \"\"\"\n",
    "    all_ious = np.array([calculate_iou(pred, true, num_classes)[0] for pred, true in zip(pred_masks, true_masks)])\n",
    "    \n",
    "    mean_ious = np.mean(all_ious, axis=0)\n",
    "    overall_mean_iou = np.mean(mean_ious[mean_ious != 0])\n",
    "    \n",
    "    return mean_ious, overall_mean_iou\n",
    "\n",
    "# num_classes = 15\n",
    "# class_ious, mean_iou = evaluate_segmentation(y_pred, y_test, num_classes)\n",
    "\n",
    "# print(\"IoU for each class:\", class_ious)\n",
    "# print(\"Mean IoU:\", mean_iou)\n",
    "\n",
    "from sklearn.metrics import jaccard_score, accuracy_score\n",
    "y_pred = np.concatenate(y_pred)\n",
    "y_test = np.concatenate(y_test)\n",
    "iou = jaccard_score(y_pred, y_test, average=None)\n",
    "print(f'IoU for each class: {iou}')\n",
    "print(f'Mean IoU: {np.mean(iou)}')\n",
    "print(f'Accuracy: {accuracy_score(y_pred, y_test)}')"
   ]
  }
 ],
 "metadata": {
  "kernelspec": {
   "display_name": "Python 3",
   "language": "python",
   "name": "python3"
  },
  "language_info": {
   "codemirror_mode": {
    "name": "ipython",
    "version": 3
   },
   "file_extension": ".py",
   "mimetype": "text/x-python",
   "name": "python",
   "nbconvert_exporter": "python",
   "pygments_lexer": "ipython3",
   "version": "3.10.12"
  }
 },
 "nbformat": 4,
 "nbformat_minor": 2
}
